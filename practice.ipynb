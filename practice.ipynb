{
 "cells": [
  {
   "cell_type": "markdown",
   "metadata": {},
   "source": [
    "## Practice Notebook"
   ]
  },
  {
   "cell_type": "code",
   "execution_count": 184,
   "metadata": {},
   "outputs": [],
   "source": [
    "import pandas\n",
    "import numpy"
   ]
  },
  {
   "cell_type": "code",
   "execution_count": null,
   "metadata": {},
   "outputs": [],
   "source": []
  },
  {
   "cell_type": "markdown",
   "metadata": {},
   "source": [
    "### 985. Sum of Even Numbers After Queries"
   ]
  },
  {
   "cell_type": "code",
   "execution_count": 214,
   "metadata": {},
   "outputs": [
    {
     "ename": "IndentationError",
     "evalue": "expected an indented block (<ipython-input-214-f37bb24cebbc>, line 18)",
     "output_type": "error",
     "traceback": [
      "\u001b[0;36m  File \u001b[0;32m\"<ipython-input-214-f37bb24cebbc>\"\u001b[0;36m, line \u001b[0;32m18\u001b[0m\n\u001b[0;31m    copy_A[j] = new_num\u001b[0m\n\u001b[0m         ^\u001b[0m\n\u001b[0;31mIndentationError\u001b[0m\u001b[0;31m:\u001b[0m expected an indented block\n"
     ]
    }
   ],
   "source": [
    "C  = []\n",
    "sum_total = 0\n",
    "\n",
    "\n",
    "j = 0\n",
    "p = len(queries) - 1 \n",
    "\n",
    "\n",
    "for x in A:\n",
    "    \n",
    "    while j <= p: \n",
    "        q = queries[j][1]\n",
    "        n = queries[j][0]\n",
    "        new_num = A[q] + n\n",
    "        copy_A = A \n",
    "        \n",
    "        if new_num % 2 == 0: \n",
    "        copy_A[j] = new_num\n",
    "        else: \n",
    "            copy_A[j] = 0\n",
    "            \n",
    "        for copy_A[i]i in range(len(copy_A)):\n",
    "            \n",
    "            if copy_A[i] % 2 ==0: \n",
    "                sum_total += copy_A[i]\n",
    "                \n",
    "        j =+1 \n",
    "j \n"
   ]
  },
  {
   "cell_type": "code",
   "execution_count": 189,
   "metadata": {},
   "outputs": [],
   "source": [
    "A = [1,2,3,4]\n",
    "queries = [[1,0],[-3,1],[-4,0],[2,3]]"
   ]
  },
  {
   "cell_type": "code",
   "execution_count": null,
   "metadata": {},
   "outputs": [],
   "source": [
    "C  = []\n",
    "j = 0\n",
    "p = len(queries) - 1 \n",
    "sum_total = 0\n",
    "\n",
    "for x in A: \n",
    "    \n",
    "    while j <= p: \n",
    "        q = queries[j][1]\n",
    "        new_num = A[q] + queries[j][0]\n",
    "        copy_A = A \n",
    "        copy_A[j] = new_num\n",
    "        j =+1 \n",
    "     \n",
    "    \n",
    "        for i in list(range(len(copy_A))):\n",
    "        \n",
    "            if (copy_A[i])%2 == 0:\n",
    "                sum_total += copy_A[i]\n",
    "\n",
    "                C.append(sum_total) \n",
    "\n",
    "print(C)\n"
   ]
  },
  {
   "cell_type": "code",
   "execution_count": 78,
   "metadata": {},
   "outputs": [],
   "source": []
  },
  {
   "cell_type": "code",
   "execution_count": 79,
   "metadata": {},
   "outputs": [
    {
     "data": {
      "text/plain": [
       "1"
      ]
     },
     "execution_count": 79,
     "metadata": {},
     "output_type": "execute_result"
    }
   ],
   "source": []
  },
  {
   "cell_type": "code",
   "execution_count": 80,
   "metadata": {},
   "outputs": [
    {
     "data": {
      "text/plain": [
       "1"
      ]
     },
     "execution_count": 80,
     "metadata": {},
     "output_type": "execute_result"
    }
   ],
   "source": []
  },
  {
   "cell_type": "code",
   "execution_count": null,
   "metadata": {},
   "outputs": [],
   "source": []
  }
 ],
 "metadata": {
  "kernelspec": {
   "display_name": "Python 3",
   "language": "python",
   "name": "python3"
  },
  "language_info": {
   "codemirror_mode": {
    "name": "ipython",
    "version": 3
   },
   "file_extension": ".py",
   "mimetype": "text/x-python",
   "name": "python",
   "nbconvert_exporter": "python",
   "pygments_lexer": "ipython3",
   "version": "3.7.6"
  }
 },
 "nbformat": 4,
 "nbformat_minor": 4
}
