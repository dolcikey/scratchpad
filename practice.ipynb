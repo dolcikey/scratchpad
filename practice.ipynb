{
 "cells": [
  {
   "cell_type": "markdown",
   "metadata": {},
   "source": [
    "## Practice Notebook"
   ]
  },
  {
   "cell_type": "code",
   "execution_count": 1,
   "metadata": {},
   "outputs": [],
   "source": [
    "import pandas\n",
    "import numpy\n"
   ]
  },
  {
   "cell_type": "markdown",
   "metadata": {},
   "source": [
    "### 985. Sum of Even Numbers After Queries"
   ]
  },
  {
   "cell_type": "code",
   "execution_count": 2,
   "metadata": {},
   "outputs": [],
   "source": [
    "A = [5,5,4]\n",
    "queries = [[0,1],[1,0],[4,1]]"
   ]
  },
  {
   "cell_type": "code",
   "execution_count": 3,
   "metadata": {},
   "outputs": [
    {
     "data": {
      "text/plain": [
       "[4, 10, 10]"
      ]
     },
     "execution_count": 3,
     "metadata": {},
     "output_type": "execute_result"
    }
   ],
   "source": [
    "output  = []\n",
    "j = 0\n",
    "\n",
    "#only takes the number of queries\n",
    "p = len(queries) - 1\n",
    "    \n",
    "while j <= p: \n",
    "    \n",
    "    # the index of the query\n",
    "    queries_index = queries[j][1]\n",
    "    \n",
    "    # the number to add\n",
    "    number = queries[j][0]\n",
    "    \n",
    "    #change the number in the A list to the new number \n",
    "    A[queries_index] = (A[queries_index] + number)\n",
    "    \n",
    "    sum_total = 0\n",
    "    \n",
    "    # add 1 to j to go to the next one \n",
    "    j += 1\n",
    "    \n",
    "    # for each number in list A \n",
    "    for x in A: \n",
    "        # check if it is even \n",
    "        if x % 2 == 0:\n",
    "            # if so add it to sum_total\n",
    "            sum_total += x \n",
    "\n",
    "    output.append(sum_total)\n",
    "     \n",
    "    \n",
    "            \n",
    "    \n",
    "output\n",
    "\n",
    "### This works for small lists, but currently am getting runtime error for large lists. \n",
    "### Optimization needed \n"
   ]
  },
  {
   "cell_type": "code",
   "execution_count": null,
   "metadata": {},
   "outputs": [],
   "source": []
  },
  {
   "cell_type": "markdown",
   "metadata": {},
   "source": [
    "## 657. Robot Return to Origin"
   ]
  },
  {
   "cell_type": "code",
   "execution_count": 4,
   "metadata": {},
   "outputs": [],
   "source": [
    "moves = \"UDUDUDLLLRRR\""
   ]
  },
  {
   "cell_type": "code",
   "execution_count": 5,
   "metadata": {},
   "outputs": [],
   "source": [
    "def judgeCircle(moves: str) -> bool:\n",
    "    return (moves.count(\"U\") == moves.count(\"D\")) & (moves.count(\"L\") == moves.count(\"R\"))"
   ]
  },
  {
   "cell_type": "code",
   "execution_count": 6,
   "metadata": {},
   "outputs": [
    {
     "data": {
      "text/plain": [
       "True"
      ]
     },
     "execution_count": 6,
     "metadata": {},
     "output_type": "execute_result"
    }
   ],
   "source": [
    "judgeCircle(moves)"
   ]
  },
  {
   "cell_type": "code",
   "execution_count": null,
   "metadata": {},
   "outputs": [],
   "source": []
  },
  {
   "cell_type": "code",
   "execution_count": null,
   "metadata": {},
   "outputs": [],
   "source": []
  },
  {
   "cell_type": "code",
   "execution_count": null,
   "metadata": {},
   "outputs": [],
   "source": []
  },
  {
   "cell_type": "code",
   "execution_count": null,
   "metadata": {},
   "outputs": [],
   "source": []
  }
 ],
 "metadata": {
  "kernelspec": {
   "display_name": "Python 3",
   "language": "python",
   "name": "python3"
  },
  "language_info": {
   "codemirror_mode": {
    "name": "ipython",
    "version": 3
   },
   "file_extension": ".py",
   "mimetype": "text/x-python",
   "name": "python",
   "nbconvert_exporter": "python",
   "pygments_lexer": "ipython3",
   "version": "3.7.6"
  }
 },
 "nbformat": 4,
 "nbformat_minor": 4
}
